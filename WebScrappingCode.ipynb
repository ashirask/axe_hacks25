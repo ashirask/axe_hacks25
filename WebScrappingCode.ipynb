{
 "cells": [
  {
   "cell_type": "code",
   "execution_count": 32,
   "metadata": {},
   "outputs": [
    {
     "name": "stdout",
     "output_type": "stream",
     "text": [
      "Extracted Headers: ['Area', 'Weekend', 'Releases', '#1 Release', 'Distributor', 'Weekend Gross']\n",
      "                     Area       Weekend Releases              #1 Release  \\\n",
      "0             South Korea       Mar 7-9       45               Mickey 17   \n",
      "1                   Japan       Mar 8-9       13                  Wicked   \n",
      "2                  France       Mar 5-9       36               Mickey 17   \n",
      "3          United Kingdom       Mar 7-9       64               Mickey 17   \n",
      "4                   Italy       Mar 6-9       31              Follemente   \n",
      "..                    ...           ...      ...                     ...   \n",
      "82            West Indies  Feb 27-Mar 2        2              The Monkey   \n",
      "83            Puerto Rico  Feb 28-Mar 2        1  Nosotros, los De la Fe   \n",
      "84               Pakistan  Feb 26-Mar 2        1                Wolf Man   \n",
      "85  Switzerland (Italian)     Feb 20-23        2                   Maria   \n",
      "86                  Qatar     Feb 20-23        2                   Maria   \n",
      "\n",
      "                               Distributor Weekend Gross  \n",
      "0                                        -    $3,857,080  \n",
      "1   Universal Pictures International (UPI)    $3,508,177  \n",
      "2                             Warner Bros.    $2,822,667  \n",
      "3                             Warner Bros.    $2,755,016  \n",
      "4                          01 Distribution    $2,439,895  \n",
      "..                                     ...           ...  \n",
      "82                                       -       $14,160  \n",
      "83                           CanZion Films        $7,702  \n",
      "84  Universal Pictures International (UPI)          $451  \n",
      "85                             Pathé Films        $4,073  \n",
      "86                             Italia Film          $176  \n",
      "\n",
      "[87 rows x 6 columns]\n",
      "Data saved to 'international_box_office_filtered.csv'\n"
     ]
    }
   ],
   "source": [
    "from bs4 import BeautifulSoup\n",
    "import pandas as pd\n",
    "\n",
    "#Upload file\n",
    "file_path = \"/Users/IsabellaKleckner/Downloads/internationalbox.html\"\n",
    "\n",
    "with open(file_path, \"r\", encoding=\"utf-8\") as file:\n",
    "    html_content = file.read()\n",
    "\n",
    "soup = BeautifulSoup(html_content, \"html.parser\")\n",
    "\n",
    "# Find the specific table \n",
    "table = soup.find(\"table\", class_=\"a-bordered a-horizontal-stripes a-size-base a-span12 mojo-body-table mojo-table-annotated\")\n",
    "\n",
    "\n",
    "if table:\n",
    "#Extract column headers from the table\n",
    "  headers = [th.text.strip() for th in table.find_all(\"th\")]\n",
    "#Define the required column names that we need to extract\n",
    "  required_columns = [\"Area\", \"Weekend\", \"Releases\", \"#1 Release\", \"Distributor\", \"Weekend Gross\"]\n",
    "  column_indices = [headers.index(col) for col in required_columns if col in headers]\n",
    "\n",
    "\n",
    "print(\"Extracted Headers:\", [headers[i] for i in column_indices])\n",
    "  \n",
    "# Extract rows\n",
    "rows = []\n",
    "for tr in table.find_all(\"tr\")[0:]:  # Skip the header row\n",
    "    row_data = [td.text.strip() for td in tr.find_all(\"td\")]\n",
    "\n",
    "        # Skip empty rows (like \"Weekend Ending...\")\n",
    "    if row_data and len(row_data) >= len(required_columns):\n",
    "            filtered_row = [row_data[i] for i in column_indices]\n",
    "            rows.append(filtered_row)\n",
    "\n",
    "df = pd.DataFrame(rows, columns= required_columns)\n",
    "\n",
    "\n",
    "print(df)\n",
    "\n",
    "#save as csv file\n",
    "df.to_csv(\"/Users/IsabellaKleckner/Downloads/axe hackathon/international_box_office_filtered(labels 9).csv\", index=False)\n",
    "print(\"Data saved to 'international_box_office_filtered.csv'\")\n",
    "\n",
    "\n",
    "\n",
    "\n"
   ]
  }
 ],
 "metadata": {
  "kernelspec": {
   "display_name": "Python (new_env)",
   "language": "python",
   "name": "new_env"
  },
  "language_info": {
   "codemirror_mode": {
    "name": "ipython",
    "version": 3
   },
   "file_extension": ".py",
   "mimetype": "text/x-python",
   "name": "python",
   "nbconvert_exporter": "python",
   "pygments_lexer": "ipython3",
   "version": "3.9.21"
  }
 },
 "nbformat": 4,
 "nbformat_minor": 2
}
